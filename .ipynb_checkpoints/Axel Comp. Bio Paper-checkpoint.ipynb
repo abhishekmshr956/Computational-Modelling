{
 "cells": [
  {
   "cell_type": "code",
   "execution_count": 1,
   "metadata": {},
   "outputs": [
    {
     "data": {
      "text/plain": [
       "' Main Author : Axel Borst\\nRe Creation : Abhishek Mishra'"
      ]
     },
     "execution_count": 1,
     "metadata": {},
     "output_type": "execute_result"
    }
   ],
   "source": [
    "\"\"\" Main Author : Axel Borst\n",
    "Re Creation : Abhishek Mishra\"\"\""
   ]
  },
  {
   "cell_type": "code",
   "execution_count": 2,
   "metadata": {
    "collapsed": true
   },
   "outputs": [],
   "source": [
    "import numpy as np\n",
    "import matplotlib.pyplot as plt"
   ]
  },
  {
   "cell_type": "code",
   "execution_count": 3,
   "metadata": {
    "collapsed": true
   },
   "outputs": [],
   "source": [
    "#plot params\n",
    "\n",
    "plt.figure(figsize = (7.5,10.))\n",
    "\n",
    "plt.rc('xtick', labelsize =8)\n",
    "plt.rc('ytick', labelsize =8)\n",
    "\n",
    "mylabelsize = 8\n",
    "mytitlesize = 10\n",
    "mylegendsize = 6\n",
    "mylw = 1"
   ]
  },
  {
   "cell_type": "code",
   "execution_count": 4,
   "metadata": {
    "collapsed": true
   },
   "outputs": [],
   "source": [
    "def setmyaxes(myxpos, myypos, myxsize, myysize):\n",
    "    ax = plt.axes([myxpos,myypos,myxsize,myysize])\n",
    "    ax.xaxis.set_ticks_position('bottom')\n",
    "    ax.yaxis.set_ticks_position('left')"
   ]
  },
  {
   "cell_type": "code",
   "execution_count": 5,
   "metadata": {
    "collapsed": true
   },
   "outputs": [],
   "source": [
    "maxtime = 1000\n",
    "Eexc = 50.0\n",
    "Einh = -10.0\n",
    "gleak = 1.0\n",
    "deltat = 1\n",
    "memcap = 10.0\n",
    "myt = np.linspace(0, maxtime*0.001*deltat,maxtime)"
   ]
  },
  {
   "cell_type": "code",
   "execution_count": null,
   "metadata": {
    "collapsed": true
   },
   "outputs": [],
   "source": []
  }
 ],
 "metadata": {
  "kernelspec": {
   "display_name": "Python 2",
   "language": "python",
   "name": "python2"
  },
  "language_info": {
   "codemirror_mode": {
    "name": "ipython",
    "version": 2
   },
   "file_extension": ".py",
   "mimetype": "text/x-python",
   "name": "python",
   "nbconvert_exporter": "python",
   "pygments_lexer": "ipython2",
   "version": "2.7.14"
  }
 },
 "nbformat": 4,
 "nbformat_minor": 2
}
